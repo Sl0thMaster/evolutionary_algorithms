{
 "cells": [
  {
   "cell_type": "code",
   "execution_count": 3,
   "id": "5143b8e3-f8ff-47ea-b74a-d3fb026cd1de",
   "metadata": {},
   "outputs": [],
   "source": [
    "from tqdm import tqdm\n",
    "# import random\n",
    "import os \n",
    "import pydub\n",
    "from pydub import AudioSegment\n",
    "import numpy as np\n",
    "from pathlib import Path\n",
    "import pickle"
   ]
  },
  {
   "cell_type": "code",
   "execution_count": 52,
   "id": "a72ada0c-c648-4542-9f1c-fc49cb8ba6c8",
   "metadata": {},
   "outputs": [],
   "source": [
    "labels = ['Alcedo atthis', 'Botaurus stellaris', 'Gallinula chloropus', 'Motacilla flava', 'Tachybaptus ruficollis']\n",
    "labels1 = ['Alcedo_atthis', 'Botaurus_stellaris', 'Gallinula_chloropus', 'Motacilla_flava', 'Tachybaptus_ruficollis']"
   ]
  },
  {
   "cell_type": "code",
   "execution_count": 54,
   "id": "633ff422-e4a7-44ab-880a-84da6247f4c4",
   "metadata": {},
   "outputs": [],
   "source": [
    "def read(f, normalized=False):\n",
    "    \"\"\"MP3 to numpy array\"\"\"\n",
    "    a = pydub.AudioSegment.from_mp3(f)\n",
    "    y = np.array(a.get_array_of_samples())\n",
    "    if a.channels == 2:\n",
    "        y = y.reshape((-1, 2))\n",
    "    if normalized:\n",
    "        return a.frame_rate, np.float32(y) / 2**15\n",
    "    else:\n",
    "        return a.frame_rate, y\n",
    "\n",
    "birds = []\n",
    "for label in labels:\n",
    "    for i in range(1, 41):\n",
    "        birds.append(read(f'raw_WMWBD/{label}/b ({i}).mp3'))"
   ]
  },
  {
   "cell_type": "code",
   "execution_count": 57,
   "id": "c3705721-cc21-494b-bd10-044f392c126c",
   "metadata": {},
   "outputs": [],
   "source": [
    "y = []\n",
    "for i in range(200):\n",
    "    y.append(i // 40)"
   ]
  },
  {
   "cell_type": "code",
   "execution_count": 60,
   "id": "1169c6a8-ed56-4a78-ad82-c751ce66a4b8",
   "metadata": {},
   "outputs": [],
   "source": [
    "data = birds, y\n",
    "with open('WMWBD.data', 'wb') as f:\n",
    "        pickle.dump(data, f)"
   ]
  },
  {
   "cell_type": "code",
   "execution_count": 4,
   "id": "300b7175-988b-40e3-ac92-4ee194f3d72d",
   "metadata": {},
   "outputs": [],
   "source": [
    "with open('WMWBD.data', 'rb') as f:\n",
    "        data_x, data_y = pickle.load(f)"
   ]
  },
  {
   "cell_type": "code",
   "execution_count": 8,
   "id": "123892d3-8025-46d3-8498-4fad40eaafb1",
   "metadata": {},
   "outputs": [
    {
     "name": "stdout",
     "output_type": "stream",
     "text": [
      "19 21\n",
      "19 21\n",
      "19 21\n",
      "19 21\n",
      "19 21\n"
     ]
    }
   ],
   "source": [
    "for k in range(5):\n",
    "    a1 = 0\n",
    "    a2 = 0\n",
    "    for i in range(40):\n",
    "        if data_x[i][0] == 44100:\n",
    "            a1 += 1\n",
    "        if data_x[i][0] == 48000:\n",
    "            a2 += 1\n",
    "    print(a1, a2)"
   ]
  },
  {
   "cell_type": "code",
   "execution_count": 37,
   "id": "cf2cf218-1701-4ff2-9fcd-8afd6783df26",
   "metadata": {},
   "outputs": [],
   "source": [
    "x_len = 88000\n",
    "\n",
    "ds_x = []\n",
    "ds_y = []\n",
    "for k in range(5):\n",
    "    for i in range(40):\n",
    "        if data_x[i][0] == 48000:\n",
    "            slice = (len(data_x[i][1]) - x_len) // 2\n",
    "            if (len(data_x[i][1]) - x_len) % 2 == 0:\n",
    "                offset = 0 \n",
    "            else:\n",
    "                offset = 1\n",
    "            ds_x.append(data_x[i][1][slice + offset: -slice])\n",
    "            ds_y.append(i)"
   ]
  },
  {
   "cell_type": "code",
   "execution_count": 39,
   "id": "f0e5d055-ecb2-4394-ad4c-fab5aa0ebf34",
   "metadata": {},
   "outputs": [],
   "source": [
    "data = ds_x, ds_y\n",
    "with open('WMWBD_small.data', 'wb') as f:\n",
    "        pickle.dump(data, f)"
   ]
  }
 ],
 "metadata": {
  "kernelspec": {
   "display_name": "Python 3 (ipykernel)",
   "language": "python",
   "name": "python3"
  },
  "language_info": {
   "codemirror_mode": {
    "name": "ipython",
    "version": 3
   },
   "file_extension": ".py",
   "mimetype": "text/x-python",
   "name": "python",
   "nbconvert_exporter": "python",
   "pygments_lexer": "ipython3",
   "version": "3.11.9"
  }
 },
 "nbformat": 4,
 "nbformat_minor": 5
}
