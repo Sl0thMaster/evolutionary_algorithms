{
 "cells": [
  {
   "cell_type": "markdown",
   "id": "4b5d1e16-d244-4c53-9b30-7bbdfcc9e2c7",
   "metadata": {
    "jp-MarkdownHeadingCollapsed": true
   },
   "source": [
    "# Import dataset"
   ]
  },
  {
   "cell_type": "code",
   "execution_count": 1,
   "id": "ee955111-9870-4182-8a60-35296f2d251d",
   "metadata": {},
   "outputs": [],
   "source": [
    "import tensorflow as tf\n",
    "tf.random.set_seed(10)\n",
    "import random\n",
    "random.seed(10)\n",
    "import matplotlib.pyplot as plt\n",
    "import numpy as np\n",
    "from copy import deepcopy\n",
    "from tqdm import tqdm\n",
    "import matplotlib.pyplot as plt\n",
    "# from PIL import Image, ImageEnhance"
   ]
  },
  {
   "cell_type": "code",
   "execution_count": 2,
   "id": "349c7a5f-6193-44a4-98b1-fb2533d18470",
   "metadata": {
    "scrolled": true
   },
   "outputs": [
    {
     "name": "stdout",
     "output_type": "stream",
     "text": [
      "Found 36000 files belonging to 4 classes.\n",
      "Found 4000 files belonging to 4 classes.\n",
      "Found 200 files belonging to 4 classes.\n",
      "Found 200 files belonging to 4 classes.\n",
      "Found 200 files belonging to 4 classes.\n",
      "Found 200 files belonging to 4 classes.\n",
      "Found 200 files belonging to 4 classes.\n",
      "Found 200 files belonging to 4 classes.\n",
      "Found 200 files belonging to 4 classes.\n",
      "Found 200 files belonging to 4 classes.\n",
      "Found 200 files belonging to 4 classes.\n",
      "Found 200 files belonging to 4 classes.\n",
      "Found 200 files belonging to 4 classes.\n",
      "Found 200 files belonging to 4 classes.\n",
      "Found 200 files belonging to 4 classes.\n",
      "Found 200 files belonging to 4 classes.\n",
      "Found 200 files belonging to 4 classes.\n",
      "Found 200 files belonging to 4 classes.\n",
      "Found 200 files belonging to 4 classes.\n",
      "Found 200 files belonging to 4 classes.\n",
      "Found 200 files belonging to 4 classes.\n",
      "Found 200 files belonging to 4 classes.\n",
      "Found 200 files belonging to 4 classes.\n",
      "Found 200 files belonging to 4 classes.\n",
      "Found 200 files belonging to 4 classes.\n",
      "Found 200 files belonging to 4 classes.\n",
      "Found 200 files belonging to 4 classes.\n",
      "Found 200 files belonging to 4 classes.\n",
      "Found 200 files belonging to 4 classes.\n",
      "Found 200 files belonging to 4 classes.\n",
      "Found 200 files belonging to 4 classes.\n",
      "Found 200 files belonging to 4 classes.\n",
      "Found 200 files belonging to 4 classes.\n",
      "Found 200 files belonging to 4 classes.\n",
      "Found 200 files belonging to 4 classes.\n",
      "Found 200 files belonging to 4 classes.\n",
      "Found 200 files belonging to 4 classes.\n",
      "Found 200 files belonging to 4 classes.\n",
      "Found 200 files belonging to 4 classes.\n",
      "Found 200 files belonging to 4 classes.\n",
      "Found 200 files belonging to 4 classes.\n",
      "Found 200 files belonging to 4 classes.\n",
      "Found 200 files belonging to 4 classes.\n",
      "Found 200 files belonging to 4 classes.\n",
      "Found 200 files belonging to 4 classes.\n",
      "Found 200 files belonging to 4 classes.\n",
      "Found 200 files belonging to 4 classes.\n",
      "Found 200 files belonging to 4 classes.\n",
      "Found 200 files belonging to 4 classes.\n",
      "Found 200 files belonging to 4 classes.\n",
      "Found 200 files belonging to 4 classes.\n",
      "Found 200 files belonging to 4 classes.\n",
      "Found 200 files belonging to 4 classes.\n",
      "Found 200 files belonging to 4 classes.\n",
      "Found 200 files belonging to 4 classes.\n",
      "Found 200 files belonging to 4 classes.\n",
      "Found 200 files belonging to 4 classes.\n",
      "Found 200 files belonging to 4 classes.\n",
      "Found 200 files belonging to 4 classes.\n",
      "Found 200 files belonging to 4 classes.\n",
      "Found 200 files belonging to 4 classes.\n",
      "Found 200 files belonging to 4 classes.\n",
      "Found 200 files belonging to 4 classes.\n",
      "Found 200 files belonging to 4 classes.\n",
      "Found 200 files belonging to 4 classes.\n",
      "Found 200 files belonging to 4 classes.\n",
      "Found 200 files belonging to 4 classes.\n",
      "Found 200 files belonging to 4 classes.\n",
      "Found 200 files belonging to 4 classes.\n",
      "Found 200 files belonging to 4 classes.\n",
      "Found 200 files belonging to 4 classes.\n",
      "Found 200 files belonging to 4 classes.\n",
      "Found 200 files belonging to 4 classes.\n",
      "Found 200 files belonging to 4 classes.\n",
      "Found 200 files belonging to 4 classes.\n",
      "Found 200 files belonging to 4 classes.\n",
      "Found 200 files belonging to 4 classes.\n",
      "Found 200 files belonging to 4 classes.\n",
      "Found 200 files belonging to 4 classes.\n",
      "Found 200 files belonging to 4 classes.\n",
      "Found 200 files belonging to 4 classes.\n",
      "Found 200 files belonging to 4 classes.\n",
      "Found 200 files belonging to 4 classes.\n",
      "Found 200 files belonging to 4 classes.\n",
      "Found 200 files belonging to 4 classes.\n",
      "Found 200 files belonging to 4 classes.\n",
      "Found 200 files belonging to 4 classes.\n",
      "Found 200 files belonging to 4 classes.\n",
      "Found 200 files belonging to 4 classes.\n",
      "Found 200 files belonging to 4 classes.\n",
      "Found 200 files belonging to 4 classes.\n",
      "Found 200 files belonging to 4 classes.\n",
      "Found 200 files belonging to 4 classes.\n",
      "Found 200 files belonging to 4 classes.\n",
      "Found 200 files belonging to 4 classes.\n",
      "Found 200 files belonging to 4 classes.\n",
      "Found 200 files belonging to 4 classes.\n",
      "Found 200 files belonging to 4 classes.\n",
      "Found 200 files belonging to 4 classes.\n",
      "Found 200 files belonging to 4 classes.\n",
      "Found 200 files belonging to 4 classes.\n",
      "Found 200 files belonging to 4 classes.\n",
      "Found 200 files belonging to 4 classes.\n",
      "Found 200 files belonging to 4 classes.\n",
      "Found 200 files belonging to 4 classes.\n",
      "Found 200 files belonging to 4 classes.\n",
      "Found 200 files belonging to 4 classes.\n",
      "Found 200 files belonging to 4 classes.\n",
      "Found 200 files belonging to 4 classes.\n",
      "Found 200 files belonging to 4 classes.\n",
      "Found 200 files belonging to 4 classes.\n",
      "Found 200 files belonging to 4 classes.\n",
      "Found 200 files belonging to 4 classes.\n",
      "Found 200 files belonging to 4 classes.\n",
      "Found 200 files belonging to 4 classes.\n",
      "Found 200 files belonging to 4 classes.\n",
      "Found 200 files belonging to 4 classes.\n",
      "Found 200 files belonging to 4 classes.\n",
      "Found 200 files belonging to 4 classes.\n",
      "Found 200 files belonging to 4 classes.\n",
      "Found 200 files belonging to 4 classes.\n",
      "Found 200 files belonging to 4 classes.\n",
      "Found 200 files belonging to 4 classes.\n",
      "Found 200 files belonging to 4 classes.\n",
      "Found 200 files belonging to 4 classes.\n",
      "Found 200 files belonging to 4 classes.\n",
      "Found 200 files belonging to 4 classes.\n",
      "Found 200 files belonging to 4 classes.\n",
      "Found 200 files belonging to 4 classes.\n",
      "Found 200 files belonging to 4 classes.\n",
      "Found 200 files belonging to 4 classes.\n",
      "Found 200 files belonging to 4 classes.\n",
      "Found 200 files belonging to 4 classes.\n",
      "Found 200 files belonging to 4 classes.\n",
      "Found 200 files belonging to 4 classes.\n",
      "Found 200 files belonging to 4 classes.\n",
      "Found 200 files belonging to 4 classes.\n",
      "Found 200 files belonging to 4 classes.\n",
      "Found 200 files belonging to 4 classes.\n",
      "Found 200 files belonging to 4 classes.\n",
      "Found 200 files belonging to 4 classes.\n",
      "Found 200 files belonging to 4 classes.\n",
      "Found 200 files belonging to 4 classes.\n",
      "Found 200 files belonging to 4 classes.\n",
      "Found 200 files belonging to 4 classes.\n",
      "Found 200 files belonging to 4 classes.\n",
      "Found 200 files belonging to 4 classes.\n",
      "Found 200 files belonging to 4 classes.\n",
      "Found 200 files belonging to 4 classes.\n",
      "Found 200 files belonging to 4 classes.\n",
      "Found 200 files belonging to 4 classes.\n",
      "Found 200 files belonging to 4 classes.\n",
      "Found 200 files belonging to 4 classes.\n",
      "Found 200 files belonging to 4 classes.\n",
      "Found 200 files belonging to 4 classes.\n",
      "Found 200 files belonging to 4 classes.\n",
      "Found 200 files belonging to 4 classes.\n",
      "Found 200 files belonging to 4 classes.\n",
      "Found 200 files belonging to 4 classes.\n",
      "Found 200 files belonging to 4 classes.\n",
      "Found 200 files belonging to 4 classes.\n",
      "Found 200 files belonging to 4 classes.\n",
      "Found 200 files belonging to 4 classes.\n",
      "Found 200 files belonging to 4 classes.\n",
      "Found 200 files belonging to 4 classes.\n",
      "Found 200 files belonging to 4 classes.\n",
      "Found 200 files belonging to 4 classes.\n",
      "Found 200 files belonging to 4 classes.\n",
      "Found 200 files belonging to 4 classes.\n",
      "Found 200 files belonging to 4 classes.\n",
      "Found 200 files belonging to 4 classes.\n",
      "Found 200 files belonging to 4 classes.\n",
      "Found 200 files belonging to 4 classes.\n",
      "Found 200 files belonging to 4 classes.\n",
      "Found 200 files belonging to 4 classes.\n",
      "Found 200 files belonging to 4 classes.\n",
      "Found 200 files belonging to 4 classes.\n",
      "Found 200 files belonging to 4 classes.\n",
      "Found 200 files belonging to 4 classes.\n",
      "Found 200 files belonging to 4 classes.\n",
      "Found 200 files belonging to 4 classes.\n",
      "Found 200 files belonging to 4 classes.\n",
      "Found 16200 files belonging to 4 classes.\n"
     ]
    }
   ],
   "source": [
    "data_dir = 'dataset/'\n",
    "img_height = 72\n",
    "img_width = 128\n",
    "\n",
    "train_ds = tf.keras.utils.image_dataset_from_directory(\n",
    "  data_dir + 'train/',\n",
    "  seed=128,\n",
    "  image_size=(img_height, img_width))\n",
    "\n",
    "val_ds = tf.keras.utils.image_dataset_from_directory(\n",
    "  data_dir + 'validation/',\n",
    "  seed=128,\n",
    "  image_size=(img_height, img_width))\n",
    "\n",
    "train_dataset = []\n",
    "for i in range(180):\n",
    "    train_dataset.append(tf.keras.utils.image_dataset_from_directory(\n",
    "    f'dataset/train_{i}/',\n",
    "    seed=128,\n",
    "    image_size=(img_height, img_width)))\n",
    "\n",
    "pretrain_ds = tf.keras.utils.image_dataset_from_directory(\n",
    "  data_dir + 'pretrain/',\n",
    "  seed=123,\n",
    "  image_size=(img_height, img_width))\n",
    "\n",
    "def normalize(images, labels):\n",
    "  images = tf.cast(images, tf.float32)\n",
    "  images /= 255\n",
    "  return images, labels\n",
    "\n",
    "train_ds = train_ds.map(normalize)\n",
    "val_ds = val_ds.map(normalize)\n",
    "pretrain_ds = train_ds.map(normalize)\n",
    "for i in range(180):\n",
    "    train_dataset[i] = train_dataset[i].map(normalize)"
   ]
  },
  {
   "cell_type": "markdown",
   "id": "2bddb839-a3fe-4279-a71e-9e62fa30ffb7",
   "metadata": {
    "jp-MarkdownHeadingCollapsed": true
   },
   "source": [
    "# Pretrain CNN model"
   ]
  },
  {
   "cell_type": "code",
   "execution_count": 3,
   "id": "fa892b5d-e19b-4fb7-a097-b5ead15d4c0d",
   "metadata": {},
   "outputs": [],
   "source": [
    "model = tf.keras.Sequential([\n",
    "    tf.keras.Input(shape=(72, 128, 3)),\n",
    "    tf.keras.layers.Conv2D(16, (11, 11), activation='relu'),\n",
    "    tf.keras.layers.MaxPooling2D((2, 2)),\n",
    "    tf.keras.layers.Conv2D(16, (9, 9), activation='relu'),\n",
    "    tf.keras.layers.MaxPooling2D((2, 2)),\n",
    "    tf.keras.layers.Conv2D(16, (5, 5), activation='relu'),\n",
    "    tf.keras.layers.Flatten(),\n",
    "    tf.keras.layers.Dense(32, activation=tf.nn.relu),\n",
    "    tf.keras.layers.Dense(4, activation=tf.nn.softmax)\n",
    "])\n",
    "\n",
    "model.compile(optimizer='adam',\n",
    "              loss=tf.keras.losses.SparseCategoricalCrossentropy(),\n",
    "              metrics=['accuracy'])\n",
    "\n",
    "# model.summary()"
   ]
  },
  {
   "cell_type": "code",
   "execution_count": 4,
   "id": "c4742c0d-a678-4d78-943b-d5b8db90eaec",
   "metadata": {},
   "outputs": [
    {
     "name": "stdout",
     "output_type": "stream",
     "text": [
      "Epoch 1/10\n",
      "\u001b[1m1125/1125\u001b[0m \u001b[32m━━━━━━━━━━━━━━━━━━━━\u001b[0m\u001b[37m\u001b[0m \u001b[1m29s\u001b[0m 25ms/step - accuracy: 0.6797 - loss: 0.7200\n",
      "Epoch 2/10\n",
      "\u001b[1m1125/1125\u001b[0m \u001b[32m━━━━━━━━━━━━━━━━━━━━\u001b[0m\u001b[37m\u001b[0m \u001b[1m28s\u001b[0m 25ms/step - accuracy: 0.9071 - loss: 0.2472\n",
      "Epoch 3/10\n",
      "\u001b[1m1125/1125\u001b[0m \u001b[32m━━━━━━━━━━━━━━━━━━━━\u001b[0m\u001b[37m\u001b[0m \u001b[1m28s\u001b[0m 25ms/step - accuracy: 0.9526 - loss: 0.1366\n",
      "Epoch 4/10\n",
      "\u001b[1m1125/1125\u001b[0m \u001b[32m━━━━━━━━━━━━━━━━━━━━\u001b[0m\u001b[37m\u001b[0m \u001b[1m28s\u001b[0m 25ms/step - accuracy: 0.9681 - loss: 0.0930\n",
      "Epoch 5/10\n",
      "\u001b[1m1125/1125\u001b[0m \u001b[32m━━━━━━━━━━━━━━━━━━━━\u001b[0m\u001b[37m\u001b[0m \u001b[1m28s\u001b[0m 25ms/step - accuracy: 0.9749 - loss: 0.0742\n",
      "Epoch 6/10\n",
      "\u001b[1m1125/1125\u001b[0m \u001b[32m━━━━━━━━━━━━━━━━━━━━\u001b[0m\u001b[37m\u001b[0m \u001b[1m28s\u001b[0m 25ms/step - accuracy: 0.9788 - loss: 0.0616\n",
      "Epoch 7/10\n",
      "\u001b[1m1125/1125\u001b[0m \u001b[32m━━━━━━━━━━━━━━━━━━━━\u001b[0m\u001b[37m\u001b[0m \u001b[1m28s\u001b[0m 25ms/step - accuracy: 0.9819 - loss: 0.0536\n",
      "Epoch 8/10\n",
      "\u001b[1m1125/1125\u001b[0m \u001b[32m━━━━━━━━━━━━━━━━━━━━\u001b[0m\u001b[37m\u001b[0m \u001b[1m28s\u001b[0m 25ms/step - accuracy: 0.9859 - loss: 0.0407\n",
      "Epoch 9/10\n",
      "\u001b[1m1125/1125\u001b[0m \u001b[32m━━━━━━━━━━━━━━━━━━━━\u001b[0m\u001b[37m\u001b[0m \u001b[1m28s\u001b[0m 25ms/step - accuracy: 0.9880 - loss: 0.0350\n",
      "Epoch 10/10\n",
      "\u001b[1m1125/1125\u001b[0m \u001b[32m━━━━━━━━━━━━━━━━━━━━\u001b[0m\u001b[37m\u001b[0m \u001b[1m28s\u001b[0m 25ms/step - accuracy: 0.9881 - loss: 0.0379\n"
     ]
    }
   ],
   "source": [
    "pretrain_history = model.fit(pretrain_ds, epochs=10, batch_size=32)"
   ]
  },
  {
   "cell_type": "code",
   "execution_count": 14,
   "id": "49b80046-bb03-4823-9aa9-22e3c6cb57ba",
   "metadata": {
    "scrolled": true
   },
   "outputs": [
    {
     "name": "stdout",
     "output_type": "stream",
     "text": [
      "dict_keys(['accuracy', 'loss'])\n"
     ]
    },
    {
     "data": {
      "image/png": "[encoded data removed]",
      "text/plain": [
       "<Figure size 640x480 with 1 Axes>"
      ]
     },
     "metadata": {},
     "output_type": "display_data"
    },
    {
     "data": {
      "image/png": "[encoded data removed]",
      "text/plain": [
       "<Figure size 640x480 with 1 Axes>"
      ]
     },
     "metadata": {},
     "output_type": "display_data"
    }
   ],
   "source": [
    "# print(pretrain_history.history.keys())\n",
    "plt.plot(pretrain_history.history['accuracy'])\n",
    "plt.title('Точность модели')\n",
    "plt.show()\n",
    "plt.plot(pretrain_history.history['loss'])\n",
    "plt.title('Loss-функция модели')\n",
    "plt.show()"
   ]
  },
  {
   "cell_type": "code",
   "execution_count": 6,
   "id": "448e1a41-5b49-4d51-b5b0-3869c35ced40",
   "metadata": {},
   "outputs": [],
   "source": [
    "model.save_weights('./weights/pretrained_weights.weights.h5')"
   ]
  },
  {
   "cell_type": "code",
   "execution_count": 4,
   "id": "13ed66b4-2b69-4957-aa6e-68bd0ed7d008",
   "metadata": {},
   "outputs": [
    {
     "name": "stderr",
     "output_type": "stream",
     "text": [
      "C:\\Users\\SlothMaster\\AppData\\Local\\Programs\\Python\\Python311\\Lib\\site-packages\\keras\\src\\saving\\saving_lib.py:415: UserWarning: Skipping variable loading for optimizer 'adam', because it has 2 variables whereas the saved optimizer has 22 variables. \n",
      "  saveable.load_own_variables(weights_store.get(inner_path))\n"
     ]
    }
   ],
   "source": [
    "model.load_weights('./weights/pretrained_weights.weights.h5')"
   ]
  },
  {
   "cell_type": "code",
   "execution_count": 5,
   "id": "5d347111-7b90-46a1-a95c-2d0e3aa02f41",
   "metadata": {},
   "outputs": [
    {
     "name": "stdout",
     "output_type": "stream",
     "text": [
      "\u001b[1m125/125\u001b[0m \u001b[32m━━━━━━━━━━━━━━━━━━━━\u001b[0m\u001b[37m\u001b[0m \u001b[1m1s\u001b[0m 10ms/step - accuracy: 0.7295 - loss: 325.1315\n",
      "Accuracy on pretrained model: 0.7210000157356262\n"
     ]
    }
   ],
   "source": [
    "val_loss, val_acc = model.evaluate(val_ds)\n",
    "print('Accuracy on pretrained model:', val_acc)"
   ]
  },
  {
   "cell_type": "markdown",
   "id": "d2fdff84-ffcb-4c57-84da-e4db1fbfdf3b",
   "metadata": {
    "jp-MarkdownHeadingCollapsed": true
   },
   "source": [
    "# Fine-tuning by optimizers"
   ]
  },
  {
   "cell_type": "code",
   "execution_count": 4,
   "id": "04ac7401-b952-4ce3-943c-528890d4df61",
   "metadata": {
    "scrolled": true
   },
   "outputs": [
    {
     "name": "stdout",
     "output_type": "stream",
     "text": [
      "Epoch 1/5\n"
     ]
    },
    {
     "name": "stderr",
     "output_type": "stream",
     "text": [
      "C:\\Users\\SlothMaster\\AppData\\Local\\Programs\\Python\\Python311\\Lib\\site-packages\\keras\\src\\saving\\saving_lib.py:415: UserWarning: Skipping variable loading for optimizer 'adam', because it has 2 variables whereas the saved optimizer has 22 variables. \n",
      "  saveable.load_own_variables(weights_store.get(inner_path))\n"
     ]
    },
    {
     "ename": "AttributeError",
     "evalue": "'str' object has no attribute 'scale_loss'",
     "output_type": "error",
     "traceback": [
      "\u001b[1;31m---------------------------------------------------------------------------\u001b[0m",
      "\u001b[1;31mAttributeError\u001b[0m                            Traceback (most recent call last)",
      "Cell \u001b[1;32mIn[4], line 9\u001b[0m\n\u001b[0;32m      7\u001b[0m model\u001b[38;5;241m.\u001b[39mload_weights(\u001b[38;5;124m'\u001b[39m\u001b[38;5;124m./weights/pretrained_weights.weights.h5\u001b[39m\u001b[38;5;124m'\u001b[39m)\n\u001b[0;32m      8\u001b[0m model\u001b[38;5;241m.\u001b[39moptimizer \u001b[38;5;241m=\u001b[39m optimizers[i]\n\u001b[1;32m----> 9\u001b[0m history \u001b[38;5;241m=\u001b[39m \u001b[43mmodel\u001b[49m\u001b[38;5;241;43m.\u001b[39;49m\u001b[43mfit\u001b[49m\u001b[43m(\u001b[49m\u001b[43mtrain_ds\u001b[49m\u001b[43m,\u001b[49m\u001b[43m \u001b[49m\u001b[43mepochs\u001b[49m\u001b[38;5;241;43m=\u001b[39;49m\u001b[38;5;241;43m5\u001b[39;49m\u001b[43m,\u001b[49m\u001b[43m \u001b[49m\u001b[43mbatch_size\u001b[49m\u001b[38;5;241;43m=\u001b[39;49m\u001b[38;5;241;43m32\u001b[39;49m\u001b[43m)\u001b[49m\n\u001b[0;32m     10\u001b[0m plt\u001b[38;5;241m.\u001b[39mplot(history\u001b[38;5;241m.\u001b[39mhistory[\u001b[38;5;124m'\u001b[39m\u001b[38;5;124maccuracy\u001b[39m\u001b[38;5;124m'\u001b[39m])\n\u001b[0;32m     11\u001b[0m plt\u001b[38;5;241m.\u001b[39mtitle(\u001b[38;5;124m'\u001b[39m\u001b[38;5;124mТочность модели\u001b[39m\u001b[38;5;124m'\u001b[39m)\n",
      "File \u001b[1;32m~\\AppData\\Local\\Programs\\Python\\Python311\\Lib\\site-packages\\keras\\src\\utils\\traceback_utils.py:122\u001b[0m, in \u001b[0;36mfilter_traceback.<locals>.error_handler\u001b[1;34m(*args, **kwargs)\u001b[0m\n\u001b[0;32m    119\u001b[0m     filtered_tb \u001b[38;5;241m=\u001b[39m _process_traceback_frames(e\u001b[38;5;241m.\u001b[39m__traceback__)\n\u001b[0;32m    120\u001b[0m     \u001b[38;5;66;03m# To get the full stack trace, call:\u001b[39;00m\n\u001b[0;32m    121\u001b[0m     \u001b[38;5;66;03m# `keras.config.disable_traceback_filtering()`\u001b[39;00m\n\u001b[1;32m--> 122\u001b[0m     \u001b[38;5;28;01mraise\u001b[39;00m e\u001b[38;5;241m.\u001b[39mwith_traceback(filtered_tb) \u001b[38;5;28;01mfrom\u001b[39;00m \u001b[38;5;28;01mNone\u001b[39;00m\n\u001b[0;32m    123\u001b[0m \u001b[38;5;28;01mfinally\u001b[39;00m:\n\u001b[0;32m    124\u001b[0m     \u001b[38;5;28;01mdel\u001b[39;00m filtered_tb\n",
      "File \u001b[1;32m~\\AppData\\Local\\Programs\\Python\\Python311\\Lib\\site-packages\\keras\\src\\backend\\tensorflow\\trainer.py:61\u001b[0m, in \u001b[0;36mTensorFlowTrainer.train_step\u001b[1;34m(self, data)\u001b[0m\n\u001b[0;32m     57\u001b[0m     \u001b[38;5;28mself\u001b[39m\u001b[38;5;241m.\u001b[39m_loss_tracker\u001b[38;5;241m.\u001b[39mupdate_state(\n\u001b[0;32m     58\u001b[0m         loss, sample_weight\u001b[38;5;241m=\u001b[39mtf\u001b[38;5;241m.\u001b[39mshape(tree\u001b[38;5;241m.\u001b[39mflatten(x)[\u001b[38;5;241m0\u001b[39m])[\u001b[38;5;241m0\u001b[39m]\n\u001b[0;32m     59\u001b[0m     )\n\u001b[0;32m     60\u001b[0m     \u001b[38;5;28;01mif\u001b[39;00m \u001b[38;5;28mself\u001b[39m\u001b[38;5;241m.\u001b[39moptimizer \u001b[38;5;129;01mis\u001b[39;00m \u001b[38;5;129;01mnot\u001b[39;00m \u001b[38;5;28;01mNone\u001b[39;00m:\n\u001b[1;32m---> 61\u001b[0m         loss \u001b[38;5;241m=\u001b[39m \u001b[38;5;28;43mself\u001b[39;49m\u001b[38;5;241;43m.\u001b[39;49m\u001b[43moptimizer\u001b[49m\u001b[38;5;241;43m.\u001b[39;49m\u001b[43mscale_loss\u001b[49m(loss)\n\u001b[0;32m     63\u001b[0m \u001b[38;5;66;03m# Compute gradients\u001b[39;00m\n\u001b[0;32m     64\u001b[0m \u001b[38;5;28;01mif\u001b[39;00m \u001b[38;5;28mself\u001b[39m\u001b[38;5;241m.\u001b[39mtrainable_weights:\n",
      "\u001b[1;31mAttributeError\u001b[0m: 'str' object has no attribute 'scale_loss'"
     ]
    }
   ],
   "source": [
    "for i in range(7):\n",
    "    model.layers[i].trainable = False\n",
    "\n",
    "optimizers = ['adam', 'sgd', 'lion', 'loss_scale_optimizer']\n",
    "\n",
    "for i in range(len(optimizers)):\n",
    "    model.load_weights('./weights/pretrained_weights.weights.h5')\n",
    "    model.optimizer = optimizers[i]\n",
    "    history = model.fit(train_ds, epochs=5, batch_size=32)\n",
    "    plt.plot(history.history['accuracy'])\n",
    "    plt.title('Точность модели')\n",
    "    plt.show()\n",
    "    plt.plot(pretrain_history.history['loss'])\n",
    "    plt.title('Loss-функция модели')\n",
    "    plt.show()\n",
    "    model.save_weights('./weights/' + optimizers[i] + '.weights.h5')\n",
    "    val_loss, val_acc = model.evaluate(val_ds)\n",
    "    print('Accuracy on model fine-tuned by optimizer ' + optimizers[i] + ':', val_acc)"
   ]
  },
  {
   "cell_type": "markdown",
   "id": "b599c794-da69-4c9b-a558-1822fcfae3bd",
   "metadata": {},
   "source": [
    "# Fine-tuning by GA"
   ]
  },
  {
   "cell_type": "code",
   "execution_count": 4,
   "id": "884756f8-c3eb-40c1-840e-07d2493f5610",
   "metadata": {},
   "outputs": [],
   "source": [
    "def weights_to_list(weights):\n",
    "    plist = []\n",
    "    for i in range(32):\n",
    "        plist.extend(weights[8][i])\n",
    "    plist.extend(weights[9])\n",
    "    return plist\n",
    "\n",
    "def list_to_weights(weights):\n",
    "    for i in range(32):\n",
    "        arr = []\n",
    "        for j in range(4):\n",
    "            arr.append(weights[i * 4 + j])\n",
    "        pretrained_weights[8][i] = np.array(arr, dtype=\"float32\")\n",
    "    pretrained_weights[9] = np.array(weights[-4:], dtype=\"float32\")\n",
    "    return pretrained_weights"
   ]
  },
  {
   "cell_type": "code",
   "execution_count": 6,
   "id": "aae87883-84d5-4ff6-b0d0-810b710a6830",
   "metadata": {},
   "outputs": [],
   "source": [
    "random.seed(32)\n",
    "\n",
    "def accuracy(w):\n",
    "    model.set_weights(list_to_weights(w))\n",
    "    # test_loss, test_accuracy1 = model.evaluate(train_dataset[random.randint(0, 179)], verbose=None)\n",
    "    # test_loss, test_accuracy2 = model.evaluate(train_dataset[random.randint(0, 179)], verbose=None)\n",
    "    # test_loss, test_accuracy3 = model.evaluate(train_dataset[random.randint(0, 179)], verbose=None)\n",
    "    # test_loss, test_accuracy4 = model.evaluate(train_dataset[random.randint(0, 179)], verbose=None)\n",
    "    # test_loss, test_accuracy5 = model.evaluate(train_dataset[random.randint(0, 179)], verbose=None)\n",
    "    # return (test_accuracy1 + test_accuracy2 + test_accuracy3 + test_accuracy4 + test_accuracy5) / 5\n",
    "    test_loss, test_accuracy = model.evaluate(train_ds, verbose=None)\n",
    "    return test_accuracy\n",
    "\n",
    "def genetic_algorithm(first_individual, population_size, n_iterations, silent = False):\n",
    "\n",
    "    P_CROSSOVER = 0.9\n",
    "    P_MUTATION = 0.3\n",
    "    ELITE = 2\n",
    "    T = 0.4\n",
    "\n",
    "    population = []\n",
    "    max_fit = []\n",
    "    avg_fit = []\n",
    "\n",
    "    for i in range(population_size):\n",
    "        individual = deepcopy(first_individual)\n",
    "        if i != 0:\n",
    "            for j in range(len(first_individual)):\n",
    "                if random.random() < 75 / len(first_individual):\n",
    "                    individual[j] += 0.5 * random.random() - 0.25\n",
    "        population.append(individual)\n",
    "\n",
    "    with tqdm(total=n_iterations, disable = silent) as pbar:\n",
    "        for k in range(n_iterations):\n",
    "            population = sorted(population, key=lambda x: -accuracy(x))\n",
    "            max_fit.append(accuracy(population[0]))\n",
    "\n",
    "            offsprings = []\n",
    "            offsprings.extend(population[:ELITE])\n",
    "            for i in range(ELITE, population_size):\n",
    "                r = random.randint(0, round(T * population_size))\n",
    "                offsprings.append(deepcopy(population[r]))\n",
    "\n",
    "            for i in range(ELITE, population_size // 2 + ELITE // 2):\n",
    "                if random.random() < P_CROSSOVER:\n",
    "                    parent1 = offsprings[i]\n",
    "                    parent2 = offsprings[i + population_size // 2 - ELITE // 2]\n",
    "                    for gene in range(len(parent1)):\n",
    "                        if random.random() < 0.5:\n",
    "                            parent1[gene], parent2[gene] = parent2[gene], parent1[gene]\n",
    "\n",
    "            for i in range(ELITE, population_size):\n",
    "                if random.random() < P_MUTATION:\n",
    "                    for gene in range(len(offsprings[i])):\n",
    "                        if random.random() < 0.1:\n",
    "                            if gene < 128:\n",
    "                                offsprings[i][gene] = 0.5 * random.random() - 0.25\n",
    "                            else:\n",
    "                                offsprings[i][gene] = 5 * random.random() - 2.5\n",
    "            population = offsprings\n",
    "            pbar.update(1)\n",
    "    population = sorted(population, key=lambda x: -accuracy(x))\n",
    "    return population[0], max_fit"
   ]
  },
  {
   "cell_type": "code",
   "execution_count": 7,
   "id": "9b97c79c-3186-45ed-a9a4-74e0703d0d31",
   "metadata": {},
   "outputs": [
    {
     "name": "stderr",
     "output_type": "stream",
     "text": [
      "C:\\Users\\SlothMaster\\AppData\\Local\\Programs\\Python\\Python311\\Lib\\site-packages\\keras\\src\\saving\\saving_lib.py:415: UserWarning: Skipping variable loading for optimizer 'adam', because it has 2 variables whereas the saved optimizer has 22 variables. \n",
      "  saveable.load_own_variables(weights_store.get(inner_path))\n",
      "100%|████████████████████████████████████████████████████████████████████████████| 120/120 [10:15:48<00:00, 307.91s/it]\n"
     ]
    },
    {
     "data": {
      "image/png": "[encoded data removed]",
      "text/plain": [
       "<Figure size 640x480 with 1 Axes>"
      ]
     },
     "metadata": {},
     "output_type": "display_data"
    },
    {
     "name": "stdout",
     "output_type": "stream",
     "text": [
      "\u001b[1m125/125\u001b[0m \u001b[32m━━━━━━━━━━━━━━━━━━━━\u001b[0m\u001b[37m\u001b[0m \u001b[1m1s\u001b[0m 9ms/step - accuracy: 0.8752 - loss: 67.7286\n",
      "Accuracy on test dataset: 0.8794999718666077\n"
     ]
    }
   ],
   "source": [
    "model.load_weights('./weights/pretrained_weights.weights.h5')\n",
    "pretrained_weights = model.get_weights()\n",
    "\n",
    "best_ind, max_fit = genetic_algorithm(weights_to_list(pretrained_weights), 30, 120)\n",
    "\n",
    "t = list(range(1, len(max_fit) + 1))\n",
    "plt.plot(t, max_fit)\n",
    "plt.show()\n",
    "\n",
    "model.set_weights(list_to_weights(best_ind))\n",
    "\n",
    "val_loss, val_acc = model.evaluate(val_ds)\n",
    "print('Accuracy on test dataset:', val_acc)"
   ]
  },
  {
   "cell_type": "code",
   "execution_count": 8,
   "id": "a4eea048-8ed2-40f9-b40d-e88f6c5c4370",
   "metadata": {},
   "outputs": [],
   "source": [
    "model.save_weights('./weights/ga.weights.h5')"
   ]
  },
  {
   "cell_type": "code",
   "execution_count": 10,
   "id": "ff89343b-ec24-4197-a279-cec73444343c",
   "metadata": {},
   "outputs": [
    {
     "name": "stdout",
     "output_type": "stream",
     "text": [
      "\u001b[1m 15/125\u001b[0m \u001b[32m━━\u001b[0m\u001b[37m━━━━━━━━━━━━━━━━━━\u001b[0m \u001b[1m1s\u001b[0m 11ms/step - accuracy: 0.9160 - loss: 0.1625"
     ]
    },
    {
     "name": "stderr",
     "output_type": "stream",
     "text": [
      "C:\\Users\\SlothMaster\\AppData\\Local\\Programs\\Python\\Python311\\Lib\\site-packages\\keras\\src\\saving\\saving_lib.py:415: UserWarning: Skipping variable loading for optimizer 'adam', because it has 2 variables whereas the saved optimizer has 0 variables. \n",
      "  saveable.load_own_variables(weights_store.get(inner_path))\n"
     ]
    },
    {
     "name": "stdout",
     "output_type": "stream",
     "text": [
      "\u001b[1m125/125\u001b[0m \u001b[32m━━━━━━━━━━━━━━━━━━━━\u001b[0m\u001b[37m\u001b[0m \u001b[1m1s\u001b[0m 10ms/step - accuracy: 0.9392 - loss: 0.1874\n",
      "\u001b[1m125/125\u001b[0m \u001b[32m━━━━━━━━━━━━━━━━━━━━\u001b[0m\u001b[37m\u001b[0m \u001b[1m1s\u001b[0m 10ms/step - accuracy: 0.9637 - loss: 0.1264\n",
      "\u001b[1m125/125\u001b[0m \u001b[32m━━━━━━━━━━━━━━━━━━━━\u001b[0m\u001b[37m\u001b[0m \u001b[1m1s\u001b[0m 10ms/step - accuracy: 0.9759 - loss: 0.1403\n",
      "\u001b[1m125/125\u001b[0m \u001b[32m━━━━━━━━━━━━━━━━━━━━\u001b[0m\u001b[37m\u001b[0m \u001b[1m1s\u001b[0m 10ms/step - accuracy: 0.9691 - loss: 0.1239\n",
      "\u001b[1m125/125\u001b[0m \u001b[32m━━━━━━━━━━━━━━━━━━━━\u001b[0m\u001b[37m\u001b[0m \u001b[1m1s\u001b[0m 10ms/step - accuracy: 0.8376 - loss: 51.4139\n"
     ]
    }
   ],
   "source": [
    "model.load_weights('./weights/adam.weights.h5')\n",
    "_, a1 = model.evaluate(val_ds)\n",
    "w1 = weights_to_list(model.get_weights())\n",
    "model.load_weights('./weights/sgd.weights.h5')\n",
    "_, a2 = model.evaluate(val_ds)\n",
    "w2 = weights_to_list(model.get_weights())\n",
    "model.load_weights('./weights/lion.weights.h5')\n",
    "_, a3 = model.evaluate(val_ds)\n",
    "w3 = weights_to_list(model.get_weights())\n",
    "model.load_weights('./weights/loss_scale_optimizer.weights.h5')\n",
    "_, a4 = model.evaluate(val_ds)\n",
    "w4 = weights_to_list(model.get_weights())\n",
    "model.load_weights('./weights/ais.weights.h5')\n",
    "_, a5 = model.evaluate(val_ds)\n",
    "w5 = weights_to_list(model.get_weights())"
   ]
  },
  {
   "cell_type": "code",
   "execution_count": 11,
   "id": "4b7713ec-a3a8-4135-95f8-6ece0f03cdcb",
   "metadata": {},
   "outputs": [
    {
     "name": "stdout",
     "output_type": "stream",
     "text": [
      "0.94075 0.9605 0.972 0.9665 0.83875\n",
      "1 0.1740902 0.1378221 0.145884 0.1764043 -0.0718834\n",
      "2 0.0799827 0.0827754 0.1119516 0.0144589 -0.1906312\n",
      "3 0.2036318 0.1859769 0.1574943 0.2182437 0.1894505\n",
      "4 -0.3001158 -0.2587448 -0.356381 -0.2975291 0.0217256\n",
      "5 0.2758373 0.2440641 0.2758373 0.2758373 -0.0671041\n",
      "6 -0.3157152 -0.3158202 -0.3157152 -0.3157152 -0.0476052\n",
      "7 -0.0320156 -0.0002541 -0.0320156 -0.0320156 -0.1108268\n",
      "8 -0.2669009 -0.2914216 -0.2669009 -0.2669009 -0.0942732\n",
      "9 -0.0055488 -0.0849945 -0.0052849 -0.0289192 0.0672435\n",
      "10 -0.4289195 -0.3669181 -0.42315 -0.4366158 0.1365218\n",
      "11 0.0852216 0.0351862 0.0618492 0.0584834 0.13046\n",
      "12 0.0540836 0.1508881 0.0457613 0.068414 -0.1910662\n",
      "13 -0.2813458 -0.206226 -0.2813458 -0.2813458 0.1881474\n",
      "14 0.0728036 -0.0221862 0.0728036 0.0728036 -0.1567714\n",
      "15 0.2677622 0.2984346 0.2677622 0.2677622 0.2082031\n",
      "16 0.1133933 0.0596838 0.1133933 0.1133933 0.2030183\n",
      "17 -0.2718324 -0.2322204 -0.2387142 -0.2817002 0.1914052\n",
      "18 0.0515656 0.0181125 0.0561307 0.0947176 0.1401254\n",
      "19 0.0775036 0.0219264 0.0809085 0.0398419 0.2169725\n",
      "20 0.715778 0.6801254 0.6529604 0.6523326 0.1448357\n",
      "21 -0.0189665 -0.08 -0.0893904 -0.1026897 0.0600157\n",
      "22 0.0216655 0.0228014 0.0859571 0.1803509 -0.1140884\n",
      "23 -0.3387717 -0.237194 -0.3411632 -0.4033086 -0.1289036\n",
      "24 -0.2453818 -0.3093342 -0.2057841 -0.2623115 0.1293044\n",
      "25 -0.1892261 -0.1305908 -0.1883308 -0.1892261 0.0943687\n",
      "26 -0.1510997 -0.207085 -0.1509307 -0.1510997 -0.0741407\n",
      "27 -0.1617471 -0.101004 -0.1628108 -0.1617471 -0.0141964\n",
      "28 0.0636829 -0.0512082 0.0627888 0.0636829 -0.1395833\n",
      "29 0.0843383 0.1178393 0.0834387 0.0843383 -0.2371985\n",
      "30 -0.1804194 -0.2203985 -0.1760082 -0.1804194 0.0920522\n",
      "31 0.1163717 0.1223119 0.1156834 0.1163717 -0.1557325\n",
      "32 -0.0129158 -0.1039659 -0.0426647 -0.0129158 0.2443049\n",
      "33 -0.112024 -0.135189 -0.0796405 -0.1252696 -0.169167\n",
      "34 -0.1674247 -0.2851376 -0.295449 -0.1345499 -0.0931318\n",
      "35 -0.1291528 0.0064647 -0.029915 -0.0881092 0.1659936\n",
      "36 -0.4891378 -0.3512818 -0.3945892 -0.3098701 0.0940145\n",
      "37 -0.1729387 -0.2151019 -0.1667772 -0.2367184 0.178952\n",
      "38 0.8467079 0.8061698 0.8195259 0.8451977 0.1664808\n",
      "39 -0.0248737 0.0357911 0.0075673 -0.0244905 -0.1685969\n",
      "40 0.0870525 0.1792594 0.1611187 0.1557792 0.1606271\n",
      "41 0.1581131 0.2111324 0.1604378 0.1581131 -0.0734866\n",
      "42 0.0708077 0.0788513 0.0691487 0.0708077 0.1253688\n",
      "43 0.1297909 0.1176831 0.1293474 0.1297909 0.0016298\n",
      "44 0.3174049 0.3862296 0.3160177 0.3174049 -0.1003677\n",
      "45 -0.3725225 -0.3791808 -0.3537817 -0.3869056 -0.1481336\n",
      "46 0.3903636 0.3893288 0.3837482 0.392128 0.2256412\n",
      "47 0.3729802 0.3380259 0.3784637 0.3561495 0.057825\n",
      "48 0.1951478 0.2748898 0.2046084 0.2515299 -0.0991589\n",
      "49 0.2660587 0.2435437 0.1820023 0.2340226 -0.0917896\n",
      "50 -0.0775116 0.0535646 -0.0710806 -0.0789189 -0.1280548\n",
      "51 0.0849772 -0.0581425 0.1072176 0.0508472 -0.0124284\n",
      "52 0.1965556 0.254337 0.2329712 0.2971278 0.2379513\n",
      "53 -0.0009579 0.0155115 0.0128416 0.0407315 0.1639262\n",
      "54 -0.2852365 -0.3646629 -0.3287262 -0.3614016 -0.1697891\n",
      "55 -0.0125449 0.0397657 0.0252392 0.0238723 0.0765114\n",
      "56 -0.4717067 -0.5310693 -0.475288 -0.5044418 -0.0054213\n",
      "57 0.3354283 0.2260355 0.2728503 0.2533852 -0.2448132\n",
      "58 -0.4524048 -0.398245 -0.4372497 -0.4214547 -0.011791\n",
      "59 0.3495128 0.3362124 0.3464953 0.3664316 0.1662107\n",
      "60 0.3817006 0.5074332 0.5156124 0.3929079 0.1243636\n",
      "61 0.2442606 0.2057874 0.2432336 0.2368186 0.1496751\n",
      "62 -0.5252406 -0.5237068 -0.5143838 -0.5254892 -0.1403788\n",
      "63 -0.0932032 -0.0997224 -0.1487051 -0.1505139 0.0769801\n",
      "64 0.4138858 0.4464538 0.4038642 0.3996303 0.2041007\n",
      "65 0.4590878 0.5291003 0.4808214 0.5298471 0.1110319\n",
      "66 0.2357383 0.1367608 0.2437837 0.1762708 -0.1844819\n",
      "67 0.1801794 0.1541204 0.1385993 0.1380862 -0.0400663\n",
      "68 -0.3209613 -0.3036204 -0.2859358 -0.274268 0.018144\n",
      "69 0.0175702 0.0076641 0.0255699 -0.0126899 -0.0615262\n",
      "70 -7.61e-05 -0.0124717 0.0446656 0.0639191 -0.2490462\n",
      "71 -0.0193967 -0.0299609 -0.1109767 -0.1071996 -0.0789828\n",
      "72 -0.2222016 -0.2375713 -0.2061592 -0.2207108 0.1332175\n",
      "73 0.409658 0.3922176 0.333296 0.3783212 0.2317028\n",
      "74 0.3411131 0.3435076 0.4236507 0.3192962 0.2030429\n",
      "75 0.0917649 0.0843448 0.0831133 0.0903728 0.0767856\n",
      "76 -0.056023 -0.0560974 -0.0493097 -0.0640923 0.1120577\n",
      "77 -0.0113672 0.0831895 0.1212638 0.0360184 -0.0694455\n",
      "78 0.1856732 0.1813993 0.1492121 0.2034977 -0.2121966\n",
      "79 -0.3311658 -0.3355158 -0.3740444 -0.3596528 -0.1654748\n",
      "80 0.0437991 -0.0396276 -0.0118191 0.0199831 0.1308622\n",
      "81 0.3514664 0.279717 0.3447576 0.3514664 0.0831606\n",
      "82 -0.2387196 -0.2476767 -0.2627328 -0.2704846 -0.1487873\n",
      "83 0.0078418 -0.0186068 0.0078074 0.0078418 -0.229289\n",
      "84 -0.2022686 -0.2024694 -0.1718714 -0.1705036 -0.0207361\n",
      "85 0.2876268 0.2038114 0.2542235 0.2172684 -0.0757387\n",
      "86 0.3334883 0.3311716 0.3287127 0.3624784 0.0181547\n",
      "87 0.3643415 0.3702436 0.3185965 0.3408477 0.1559171\n",
      "88 -0.3652704 -0.3082833 -0.3663033 -0.4101117 -0.1315882\n",
      "89 -0.1506111 -0.3170562 -0.2686897 -0.3114455 -0.1545491\n",
      "90 0.0632199 0.1569137 0.1447831 0.1724752 -0.0196102\n",
      "91 0.0407997 0.0803802 0.0918853 0.0744149 0.0614451\n",
      "92 -0.0057092 -0.0789013 -0.0517116 -0.0101067 0.1353491\n",
      "93 0.3727188 0.3879046 0.3835743 0.3539443 -0.1571277\n",
      "94 0.3270853 0.3146033 0.2744421 0.3529291 -0.1002219\n",
      "95 -0.4246871 -0.4184497 -0.4795518 -0.4989063 -0.188626\n",
      "96 0.357844 0.3168368 0.3647294 0.3375577 0.1874565\n",
      "97 0.3104859 0.2949308 0.2981682 0.3079735 0.03241\n",
      "98 -0.2818998 -0.3936216 -0.346464 -0.3518891 -0.2465896\n",
      "99 -0.2414319 -0.1817066 -0.1832906 -0.2489773 -0.0503783\n",
      "100 -0.1620238 -0.096316 -0.1652771 -0.1175608 -0.000562\n",
      "101 0.2985978 0.3460474 0.4124684 0.4028765 0.0416649\n",
      "102 0.2589266 0.2244273 0.1919856 0.2377958 -0.0535426\n",
      "103 -0.1977087 -0.1418423 -0.282897 -0.2924557 -0.019985\n",
      "104 -0.1525178 -0.0820329 -0.0154997 -0.0634591 -0.1789187\n",
      "105 0.1965531 0.0479562 0.151592 0.2244189 0.0168034\n",
      "106 -0.175574 -0.0594639 -0.1634721 -0.2075328 -0.0481252\n",
      "107 -0.212574 -0.177696 -0.162825 -0.2066867 -0.0969264\n",
      "108 -0.1670847 -0.0346601 -0.1686148 -0.1670898 -0.1002499\n",
      "109 0.305487 0.2662232 0.2701168 0.1835158 0.1817624\n",
      "110 0.0611659 0.1295328 0.0893213 0.1265462 -0.2389099\n",
      "111 -0.0089579 0.0302209 0.0480383 0.1371884 -0.2231778\n",
      "112 -0.3105858 -0.3750808 -0.2767801 -0.3410224 0.1770361\n",
      "113 0.3415226 0.3726194 0.3221295 0.3307634 -0.0767331\n",
      "114 0.3283966 0.3170391 0.3101747 0.3468787 0.1322753\n",
      "115 -0.1843238 -0.1801103 0.0664538 -0.1800758 -0.1467408\n",
      "116 0.0069159 0.0264245 0.0155278 0.0118597 -0.1358554\n",
      "117 -0.2238257 -0.1915716 -0.261617 -0.220979 -0.0438249\n",
      "118 -0.2124802 -0.2469392 -0.1755541 -0.2661575 -0.2061749\n",
      "119 -0.2867533 -0.3269013 -0.286701 -0.1573744 0.1587717\n",
      "120 -0.2685871 -0.3719294 -0.2647361 -0.3341982 0.1276235\n",
      "121 0.1346594 -0.0185295 -0.0212852 -0.0759314 0.0874741\n",
      "122 -0.2904805 -0.1976422 -0.217632 -0.1972891 0.1199848\n",
      "123 0.1200468 0.0954162 0.1408091 0.2084363 0.0273196\n",
      "124 -0.1029308 0.0200783 -0.0042086 -0.0341142 0.2448641\n",
      "125 -0.0303015 -0.0520576 -0.071052 -0.0800317 -0.2126716\n",
      "126 -0.1765724 -0.2532121 -0.2179543 -0.2544324 0.1079167\n",
      "127 0.1930077 0.2313466 0.222619 0.2325796 -0.123376\n",
      "128 0.1693229 0.2118098 0.1786767 0.2675039 0.1315445\n",
      "129 0.2314556 0.1444798 0.0805815 -0.2660282 -0.8749897\n",
      "130 0.273775 -0.322017 -0.0321707 0.7376044 -1.3013344\n",
      "131 -0.082351 0.2305596 -0.0025736 -0.1936231 0.1069451\n",
      "132 -1.2933344 -0.2639531 -0.3391136 -1.0894731 -0.6631914\n"
     ]
    }
   ],
   "source": [
    "print(round(a1, 7), round(a2, 7),  round(a3, 7), round(a4, 7), round(a5, 7))\n",
    "for i in range(len(w1)):\n",
    "    print(i + 1, round(w1[i], 7), round(w2[i], 7), round(w3[i], 7), round(w4[i], 7), round(w5[i], 7))"
   ]
  },
  {
   "cell_type": "code",
   "execution_count": 45,
   "id": "596b371f-550b-4933-9514-dc077700ab80",
   "metadata": {},
   "outputs": [
    {
     "data": {
      "text/plain": [
       "-0.25836742"
      ]
     },
     "execution_count": 45,
     "metadata": {},
     "output_type": "execute_result"
    }
   ],
   "source": [
    "def min_and_max(lst):\n",
    "    print(min(lst[:128]), max(lst[:128]), min(lst[128:]), max(lst[128:]))\n",
    "\n",
    "min_and_max(w1)\n",
    "min_and_max(w2)\n",
    "min_and_max(w3)\n",
    "min_and_max(w4)\n",
    "min_and_max(w5)"
   ]
  }
 ],
 "metadata": {
  "kernelspec": {
   "display_name": "Python 3 (ipykernel)",
   "language": "python",
   "name": "python3"
  },
  "language_info": {
   "codemirror_mode": {
    "name": "ipython",
    "version": 3
   },
   "file_extension": ".py",
   "mimetype": "text/x-python",
   "name": "python",
   "nbconvert_exporter": "python",
   "pygments_lexer": "ipython3",
   "version": "3.11.9"
  }
 },
 "nbformat": 4,
 "nbformat_minor": 5
}
