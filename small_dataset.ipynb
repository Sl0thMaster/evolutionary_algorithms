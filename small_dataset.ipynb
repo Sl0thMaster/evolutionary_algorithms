{
 "cells": [
  {
   "cell_type": "code",
   "execution_count": 3,
   "id": "a72ada0c-c648-4542-9f1c-fc49cb8ba6c8",
   "metadata": {},
   "outputs": [],
   "source": [
    "from PIL import Image #, ImageEnhance\n",
    "from tqdm import tqdm\n",
    "import random\n",
    "import os \n",
    "\n",
    "labels = ['CarRacing', 'Fighting', 'BikeRacing', 'Soccer']\n",
    "\n",
    "# for i in range(180):\n",
    "#     directory = f'train_{i}'\n",
    "#     parent_dir = \"dataset\"\n",
    "#     path = os.path.join(parent_dir, directory) \n",
    "#     os.mkdir(path) \n",
    "#     for label in labels:\n",
    "#         path = os.path.join(f'dataset/train_{i}', label) \n",
    "#         os.mkdir(path) "
   ]
  },
  {
   "cell_type": "code",
   "execution_count": 4,
   "id": "97cc0cbb-7e59-48cd-88c3-7f71fd63f113",
   "metadata": {},
   "outputs": [
    {
     "name": "stderr",
     "output_type": "stream",
     "text": [
      "100%|███████████████████████████████████████████████████████████████████████████| 40000/40000 [04:24<00:00, 151.07it/s]\n"
     ]
    }
   ],
   "source": [
    "n_it = 10000\n",
    "random.seed(128)\n",
    "\n",
    "def rep(index, size):\n",
    "    perm = []\n",
    "    for i in range(size):\n",
    "        rnd = random.randint(1, n_it)\n",
    "        while rnd in perm:\n",
    "            rnd = random.randint(1, n_it)\n",
    "        perm.append(rnd)\n",
    "        image = Image.open(f'raw_dataset_renamed/{labels[index]}/{labels[index]} ({perm[i]}).jpg')\n",
    "        image = image.resize((128, 72))\n",
    "        if i < 9000:\n",
    "            image.save(f'dataset/train/{labels[index]}/{labels[index]}_{i:0>4}.jpg')\n",
    "            image.save(f'dataset/train_{i // 50}/{labels[index]}/{labels[index]}_{i:0>4}.jpg')\n",
    "        else:\n",
    "            image.save(f'dataset/validation/{labels[index]}/{labels[index]}_{i:0>4}.jpg')\n",
    "        pbar.update(1)\n",
    "        \n",
    "with tqdm(total=40000) as pbar:\n",
    "    rep(0, 10000)\n",
    "    rep(1, 10000)\n",
    "    rep(2, 10000)\n",
    "    rep(3, 10000)"
   ]
  },
  {
   "cell_type": "code",
   "execution_count": 2,
   "id": "f8d8fde8-d2da-406a-826f-c8866cd7cfb2",
   "metadata": {},
   "outputs": [
    {
     "name": "stderr",
     "output_type": "stream",
     "text": [
      "100%|███████████████████████████████████████████████████████████████████████████| 16200/16200 [01:41<00:00, 159.17it/s]\n"
     ]
    }
   ],
   "source": [
    "from PIL import Image #, ImageEnhance\n",
    "from tqdm import tqdm\n",
    "import random\n",
    "\n",
    "labels = ['CarRacing', 'Fighting', 'BikeRacing', 'Soccer']\n",
    "\n",
    "n_it = 10000\n",
    "random.seed(128)\n",
    "\n",
    "def rep(index, size):\n",
    "    perm = []\n",
    "    for i in range(size):\n",
    "        rnd = random.randint(1, n_it)\n",
    "        while rnd in perm:\n",
    "            rnd = random.randint(1, n_it)\n",
    "        perm.append(rnd)\n",
    "        image = Image.open(f'raw_dataset_renamed/{labels[index]}/{labels[index]} ({perm[i]}).jpg')\n",
    "        image = image.resize((128, 72))\n",
    "        image.save(f'dataset/pretrain/{labels[index]}/{labels[index]}_{i:0>4}.jpg')\n",
    "        pbar.update(1)\n",
    "        \n",
    "with tqdm(total=16200) as pbar:\n",
    "    rep(0, 8000)\n",
    "    rep(1, 8000)\n",
    "    rep(2, 100)\n",
    "    rep(3, 100)"
   ]
  }
 ],
 "metadata": {
  "kernelspec": {
   "display_name": "Python 3 (ipykernel)",
   "language": "python",
   "name": "python3"
  },
  "language_info": {
   "codemirror_mode": {
    "name": "ipython",
    "version": 3
   },
   "file_extension": ".py",
   "mimetype": "text/x-python",
   "name": "python",
   "nbconvert_exporter": "python",
   "pygments_lexer": "ipython3",
   "version": "3.11.9"
  }
 },
 "nbformat": 4,
 "nbformat_minor": 5
}
