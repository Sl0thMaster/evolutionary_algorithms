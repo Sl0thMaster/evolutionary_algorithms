{
 "cells": [
  {
   "cell_type": "code",
   "execution_count": 2,
   "id": "97cc0cbb-7e59-48cd-88c3-7f71fd63f113",
   "metadata": {},
   "outputs": [
    {
     "name": "stderr",
     "output_type": "stream",
     "text": [
      "100%|███████████████████████████████████████████████████████████████████████████| 40000/40000 [04:25<00:00, 150.88it/s]\n"
     ]
    }
   ],
   "source": [
    "from PIL import Image #, ImageEnhance\n",
    "from tqdm import tqdm\n",
    "import random\n",
    "\n",
    "labels = ['CarRacing', 'Fighting', 'BikeRacing', 'Soccer']\n",
    "\n",
    "n_it = 10000\n",
    "random.seed(128)\n",
    "\n",
    "def rep(index, size):\n",
    "    perm = []\n",
    "    for i in range(size):\n",
    "        rnd = random.randint(1, n_it)\n",
    "        while rnd in perm:\n",
    "            rnd = random.randint(1, n_it)\n",
    "        perm.append(rnd)\n",
    "        image = Image.open(f'raw_dataset_renamed/{labels[index]}/{labels[index]} ({perm[i]}).jpg')\n",
    "        image = image.resize((128, 72))\n",
    "        # image = ImageEnhance.Color(image).enhance(0)\n",
    "        if i < 9000:\n",
    "            image.save(f'dataset/train/{labels[index]}/{labels[index]}_{i:0>4}.jpg')\n",
    "            image.save(f'dataset/train_{i // 1000}/{labels[index]}/{labels[index]}_{i:0>4}.jpg')\n",
    "        else:\n",
    "            image.save(f'dataset/validation/{labels[index]}/{labels[index]}_{i:0>4}.jpg')\n",
    "        pbar.update(1)\n",
    "        \n",
    "with tqdm(total=40000) as pbar:\n",
    "    rep(0, 10000)\n",
    "    rep(1, 10000)\n",
    "    rep(2, 10000)\n",
    "    rep(3, 10000)"
   ]
  }
 ],
 "metadata": {
  "kernelspec": {
   "display_name": "Python 3 (ipykernel)",
   "language": "python",
   "name": "python3"
  },
  "language_info": {
   "codemirror_mode": {
    "name": "ipython",
    "version": 3
   },
   "file_extension": ".py",
   "mimetype": "text/x-python",
   "name": "python",
   "nbconvert_exporter": "python",
   "pygments_lexer": "ipython3",
   "version": "3.11.7"
  }
 },
 "nbformat": 4,
 "nbformat_minor": 5
}
