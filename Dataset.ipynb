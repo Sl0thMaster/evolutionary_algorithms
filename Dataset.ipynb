{
 "cells": [
  {
   "cell_type": "code",
   "execution_count": 9,
   "id": "bbb8dae1-592b-4532-a931-d322d90be2ce",
   "metadata": {},
   "outputs": [],
   "source": [
    "from PIL import Image, ImageEnhance\n",
    "from tqdm import tqdm\n",
    "import random"
   ]
  },
  {
   "cell_type": "code",
   "execution_count": 13,
   "id": "2a400fa8-adac-4913-b5b3-93565e354208",
   "metadata": {},
   "outputs": [
    {
     "name": "stderr",
     "output_type": "stream",
     "text": [
      "100%|███████████████████████████████████████████████████████████████████████████| 64080/64080 [06:25<00:00, 166.25it/s]\n"
     ]
    }
   ],
   "source": [
    "n_it_r = 30916\n",
    "n_it_m = 47723\n",
    "n_it_p = 21361\n",
    "\n",
    "n_it = 21360\n",
    "\n",
    "def rep(it, name_0, name_1):\n",
    "    perm = []\n",
    "    for i in range(n_it):\n",
    "        rnd = random.randint(1, it)\n",
    "        while rnd in perm:\n",
    "            rnd = random.randint(1, it)\n",
    "        perm.append(rnd)\n",
    "        image = Image.open(f'raw_dataset_renamed/{name_0}/{name_1} ({perm[i]}).jpg')\n",
    "        image = image.resize((256, 144))\n",
    "        image = ImageEnhance.Color(image).enhance(0)\n",
    "        image.save(f'dataset/{name_0}/{name_1}_{i:0>5}.jpg')\n",
    "        pbar.update(1)\n",
    "\n",
    "with tqdm(total=n_it * 3) as pbar:\n",
    "    rep(n_it_r, 'Retro', 'retro')\n",
    "    rep(n_it_m, 'Modern', 'modern')\n",
    "    rep(n_it_p, 'Photoreal', 'photoreal')"
   ]
  }
 ],
 "metadata": {
  "kernelspec": {
   "display_name": "Python 3 (ipykernel)",
   "language": "python",
   "name": "python3"
  },
  "language_info": {
   "codemirror_mode": {
    "name": "ipython",
    "version": 3
   },
   "file_extension": ".py",
   "mimetype": "text/x-python",
   "name": "python",
   "nbconvert_exporter": "python",
   "pygments_lexer": "ipython3",
   "version": "3.11.7"
  }
 },
 "nbformat": 4,
 "nbformat_minor": 5
}
